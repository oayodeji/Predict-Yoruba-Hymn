{
  "nbformat": 4,
  "nbformat_minor": 0,
  "metadata": {
    "colab": {
      "provenance": [],
      "collapsed_sections": [
        "wQ-4FwfmDDik",
        "0VWcNCKzzjzs",
        "Bk_rgNVG8zm-"
      ],
      "include_colab_link": true
    },
    "kernelspec": {
      "name": "python3",
      "display_name": "Python 3"
    },
    "accelerator": "GPU"
  },
  "cells": [
    {
      "cell_type": "markdown",
      "metadata": {
        "id": "view-in-github",
        "colab_type": "text"
      },
      "source": [
        "<a href=\"https://colab.research.google.com/github/oayodeji/Predict-Yoruba-Hymn/blob/main/Yoruba_hymn_generator.ipynb\" target=\"_parent\"><img src=\"https://colab.research.google.com/assets/colab-badge.svg\" alt=\"Open In Colab\"/></a>"
      ]
    },
    {
      "cell_type": "markdown",
      "metadata": {
        "id": "wQ-4FwfmDDik"
      },
      "source": [
        "## Requirements\n",
        "###Dataset contains 10 popular hymns written in yoruba language with their proper tone marks"
      ]
    },
    {
      "cell_type": "code",
      "metadata": {
        "id": "z3qe0y9UBl-Y",
        "outputId": "f9b8a5d8-d446-4a1b-deb3-947d2ec2c5d0",
        "colab": {
          "base_uri": "https://localhost:8080/"
        }
      },
      "source": [
        "!apt install --allow-change-held-packages libcudnn8=8.1.0.77-1+cuda11.2"
      ],
      "execution_count": null,
      "outputs": [
        {
          "output_type": "stream",
          "name": "stdout",
          "text": [
            "Reading package lists... Done\n",
            "Building dependency tree       \n",
            "Reading state information... Done\n",
            "The following package was automatically installed and is no longer required:\n",
            "  libnvidia-common-460\n",
            "Use 'apt autoremove' to remove it.\n",
            "The following packages will be REMOVED:\n",
            "  libcudnn8-dev\n",
            "The following held packages will be changed:\n",
            "  libcudnn8\n",
            "The following packages will be upgraded:\n",
            "  libcudnn8\n",
            "1 upgraded, 0 newly installed, 1 to remove and 18 not upgraded.\n",
            "Need to get 430 MB of archives.\n",
            "After this operation, 3,139 MB disk space will be freed.\n",
            "Get:1 https://developer.download.nvidia.com/compute/cuda/repos/ubuntu1804/x86_64  libcudnn8 8.1.0.77-1+cuda11.2 [430 MB]\n",
            "Fetched 430 MB in 9s (47.6 MB/s)\n",
            "(Reading database ... 155685 files and directories currently installed.)\n",
            "Removing libcudnn8-dev (8.0.5.39-1+cuda11.1) ...\n",
            "(Reading database ... 155663 files and directories currently installed.)\n",
            "Preparing to unpack .../libcudnn8_8.1.0.77-1+cuda11.2_amd64.deb ...\n",
            "Unpacking libcudnn8 (8.1.0.77-1+cuda11.2) over (8.0.5.39-1+cuda11.1) ...\n",
            "Setting up libcudnn8 (8.1.0.77-1+cuda11.2) ...\n"
          ]
        }
      ]
    },
    {
      "cell_type": "code",
      "source": [
        "import tensorflow as tf\n",
        "print(\"Num GPUs Available: \", len(tf.config.list_physical_devices('GPU')))"
      ],
      "metadata": {
        "colab": {
          "base_uri": "https://localhost:8080/"
        },
        "id": "yIX3MUNeoMTU",
        "outputId": "f2ec2f94-3f4e-496e-8cb9-3d8bc9b596d7"
      },
      "execution_count": null,
      "outputs": [
        {
          "output_type": "stream",
          "name": "stdout",
          "text": [
            "Num GPUs Available:  1\n"
          ]
        }
      ]
    },
    {
      "cell_type": "code",
      "source": [
        "from google.colab import drive\n",
        "drive.mount('/content/gdrive')\n",
        "%cd /content/gdrive/MyDrive/Text Generation"
      ],
      "metadata": {
        "colab": {
          "base_uri": "https://localhost:8080/"
        },
        "id": "E9NJzQReoJT0",
        "outputId": "d533e805-3e6d-4db8-b14a-750d678ede10"
      },
      "execution_count": null,
      "outputs": [
        {
          "output_type": "stream",
          "name": "stdout",
          "text": [
            "Mounted at /content/gdrive\n",
            "/content/gdrive/MyDrive/Text Generation\n"
          ]
        }
      ]
    },
    {
      "cell_type": "markdown",
      "metadata": {
        "id": "U9R3y2DEDs8w"
      },
      "source": [
        "## Load the text file"
      ]
    },
    {
      "cell_type": "code",
      "metadata": {
        "id": "XzzS15owCGG1"
      },
      "source": [
        "with open('Ten_Yoruba_Hymns.txt') as f:\n",
        "    data = f.readlines()                             #Data loads as list\n",
        "data = ' '.join(data).lower().split('\\n')            #Join Data into string,lower words and split along new lines"
      ],
      "execution_count": null,
      "outputs": []
    },
    {
      "cell_type": "code",
      "metadata": {
        "id": "0UZNJDfxCl4k",
        "outputId": "1a1bc365-0601-42b6-d0df-c57aecc9ecde",
        "colab": {
          "base_uri": "https://localhost:8080/"
        }
      },
      "source": [
        "print(len(data))                                     #Check Length of Data\n",
        "data[0:6]                                            #View data sample"
      ],
      "execution_count": null,
      "outputs": [
        {
          "output_type": "stream",
          "name": "stdout",
          "text": [
            "261\n"
          ]
        },
        {
          "output_type": "execute_result",
          "data": {
            "text/plain": [
              "['ìsun kan wa tó kún fẹ́jẹ̀',\n",
              " ' mo ti ní jésù lọ́rẹ̀',\n",
              " ' enìkan nbẹ tó fẹ́ràn wa',\n",
              " ' gba ayé mi, olúwa',\n",
              " ' olùgbàlà gbóhùn mi',\n",
              " ' árẹ̀ mú ọ, ọkàn re pòrurù']"
            ]
          },
          "metadata": {},
          "execution_count": 106
        }
      ]
    },
    {
      "cell_type": "markdown",
      "metadata": {
        "id": "V3syXf3zDnwG"
      },
      "source": [
        "##Import Libraries"
      ]
    },
    {
      "cell_type": "code",
      "metadata": {
        "id": "V9frLhhLy2fX"
      },
      "source": [
        "import tensorflow as tf\n",
        "from tensorflow.keras.preprocessing.text import Tokenizer\n",
        "from tensorflow.keras.preprocessing.sequence import pad_sequences\n",
        "import numpy as np\n",
        "\n",
        "import tensorflow as tf\n",
        "from tensorflow import keras\n",
        "from tensorflow.keras import layers"
      ],
      "execution_count": null,
      "outputs": []
    },
    {
      "cell_type": "markdown",
      "metadata": {
        "id": "y3IiFjEXKBir"
      },
      "source": [
        "# Data Preprocessing"
      ]
    },
    {
      "cell_type": "code",
      "source": [
        "tokenizer = Tokenizer()\n",
        "\n",
        "def get_sequence_of_tokens(corpus):\n",
        "    ## tokenization\n",
        "    tokenizer.fit_on_texts(corpus)\n",
        "    total_words = len(tokenizer.word_index) + 1\n",
        "    \n",
        "    ## convert data to sequence of tokens \n",
        "    input_sequences = []\n",
        "    for line in corpus:\n",
        "        token_list = tokenizer.texts_to_sequences([line])[0]\n",
        "        for i in range(1, len(token_list)):\n",
        "            n_gram_sequence = token_list[:i+1]\n",
        "            input_sequences.append(n_gram_sequence)\n",
        "    return input_sequences, total_words\n",
        "\n",
        "inp_sequences, total_words = get_sequence_of_tokens(data)"
      ],
      "metadata": {
        "id": "C8p8gO-b1Qfm"
      },
      "execution_count": null,
      "outputs": []
    },
    {
      "cell_type": "code",
      "source": [
        "def generate_padded_sequences(input_sequences):\n",
        "    max_sequence_len = max([len(x) for x in input_sequences])\n",
        "    input_sequences = np.array(pad_sequences(input_sequences, maxlen=max_sequence_len, padding='pre'))\n",
        "    \n",
        "    train_data, label = input_sequences[:,:-1], input_sequences[:,-1]\n",
        "    label = tf.keras.utils.to_categorical(label, num_classes=total_words)\n",
        "    return train_data, label, max_sequence_len\n",
        "\n",
        "train_data, labels, max_sequence_len = generate_padded_sequences(inp_sequences)"
      ],
      "metadata": {
        "id": "4--4FxQ31e-G"
      },
      "execution_count": null,
      "outputs": []
    },
    {
      "cell_type": "code",
      "source": [
        "buffer_size = len(data)\n",
        "batch_size = 32\n",
        "auto = tf.data.AUTOTUNE\n",
        "\n",
        "train_dataset = tf.data.Dataset.from_tensor_slices((train_data, labels))\n",
        "train_dataset = train_dataset.cache().shuffle(buffer_size).batch(batch_size).prefetch(auto)"
      ],
      "metadata": {
        "id": "XLJICJ2X5W4H"
      },
      "execution_count": null,
      "outputs": []
    },
    {
      "cell_type": "markdown",
      "source": [
        "# Transformer"
      ],
      "metadata": {
        "id": "esSwmzmFzNA2"
      }
    },
    {
      "cell_type": "code",
      "source": [
        "class TransformerBlock(layers.Layer):\n",
        "    def __init__(self, embed_dim, num_heads, ff_dim, rate=0.1):\n",
        "        super(TransformerBlock, self).__init__()\n",
        "        self.att = layers.MultiHeadAttention(num_heads=num_heads, key_dim=embed_dim)\n",
        "        self.ffn = keras.Sequential(\n",
        "            [layers.Dense(ff_dim, activation=\"relu\"), layers.Dense(embed_dim),]\n",
        "        )\n",
        "        self.layernorm1 = layers.LayerNormalization(epsilon=1e-6)\n",
        "        self.layernorm2 = layers.LayerNormalization(epsilon=1e-6)\n",
        "        self.dropout1 = layers.Dropout(rate)\n",
        "        self.dropout2 = layers.Dropout(rate)\n",
        "\n",
        "    def call(self, inputs, training):\n",
        "        attn_output = self.att(inputs, inputs)\n",
        "        attn_output = self.dropout1(attn_output, training=training)\n",
        "        out1 = self.layernorm1(inputs + attn_output)\n",
        "        ffn_output = self.ffn(out1)\n",
        "        ffn_output = self.dropout2(ffn_output, training=training)\n",
        "        return self.layernorm2(out1 + ffn_output)"
      ],
      "metadata": {
        "id": "YL17ZnF-zJt6"
      },
      "execution_count": null,
      "outputs": []
    },
    {
      "cell_type": "code",
      "source": [
        "class TokenAndPositionEmbedding(layers.Layer):\n",
        "    def __init__(self, maxlen, vocab_size, embed_dim):\n",
        "        super(TokenAndPositionEmbedding, self).__init__()\n",
        "        self.token_emb = layers.Embedding(input_dim=vocab_size, output_dim=embed_dim)\n",
        "        self.pos_emb = layers.Embedding(input_dim=maxlen, output_dim=embed_dim)\n",
        "\n",
        "    def call(self, x):\n",
        "        maxlen = tf.shape(x)[-1]\n",
        "        positions = tf.range(start=0, limit=maxlen, delta=1)\n",
        "        positions = self.pos_emb(positions)\n",
        "        x = self.token_emb(x)\n",
        "        return x + positions"
      ],
      "metadata": {
        "id": "Q6sHz-_CzJib"
      },
      "execution_count": null,
      "outputs": []
    },
    {
      "cell_type": "code",
      "source": [
        "embed_dim = 64  # Embedding size for each token\n",
        "num_heads = 2  # Number of attention heads\n",
        "ff_dim = 32  # Hidden layer size in feed forward network inside transformer\n",
        "\n",
        "inputs = layers.Input(shape=(max_sequence_len - 1,))\n",
        "embedding_layer = TokenAndPositionEmbedding(max_sequence_len, total_words, embed_dim)\n",
        "x = embedding_layer(inputs)\n",
        "transformer_block = TransformerBlock(embed_dim, num_heads, ff_dim)\n",
        "x = transformer_block(x)\n",
        "x = layers.GlobalAveragePooling1D()(x)\n",
        "x = layers.Dense(400, activation=\"relu\")(x)\n",
        "outputs = layers.Dense(total_words, activation=\"softmax\")(x)\n",
        "\n",
        "model = keras.Model(inputs=inputs, outputs=outputs)\n",
        "\n",
        "model.summary()"
      ],
      "metadata": {
        "id": "k2R4xw0lx05t",
        "colab": {
          "base_uri": "https://localhost:8080/"
        },
        "outputId": "03b9cca1-ead3-40d3-eeb2-e03d2e42d12a"
      },
      "execution_count": null,
      "outputs": [
        {
          "output_type": "stream",
          "name": "stdout",
          "text": [
            "Model: \"model_20\"\n",
            "_________________________________________________________________\n",
            " Layer (type)                Output Shape              Param #   \n",
            "=================================================================\n",
            " input_18 (InputLayer)       [(None, 7)]               0         \n",
            "                                                                 \n",
            " token_and_position_embeddin  (None, 7, 64)            29888     \n",
            " g_17 (TokenAndPositionEmbed                                     \n",
            " ding)                                                           \n",
            "                                                                 \n",
            " transformer_block_17 (Trans  (None, 7, 64)            37664     \n",
            " formerBlock)                                                    \n",
            "                                                                 \n",
            " global_average_pooling1d_14  (None, 64)               0         \n",
            "  (GlobalAveragePooling1D)                                       \n",
            "                                                                 \n",
            " dense_76 (Dense)            (None, 400)               26000     \n",
            "                                                                 \n",
            " dense_77 (Dense)            (None, 459)               184059    \n",
            "                                                                 \n",
            "=================================================================\n",
            "Total params: 277,611\n",
            "Trainable params: 277,611\n",
            "Non-trainable params: 0\n",
            "_________________________________________________________________\n"
          ]
        }
      ]
    },
    {
      "cell_type": "code",
      "source": [
        "adam = tf.keras.optimizers.Adam(lr=0.01)\n",
        "model.compile(optimizer='rmsprop', loss=\"categorical_crossentropy\", metrics=[\"accuracy\"])\n",
        "history = model.fit(\n",
        "    train_dataset, epochs=100)"
      ],
      "metadata": {
        "colab": {
          "base_uri": "https://localhost:8080/"
        },
        "id": "FOSO3bMy07SC",
        "outputId": "30b9e3a3-5647-44ea-d278-8a2413200c1c"
      },
      "execution_count": null,
      "outputs": [
        {
          "output_type": "stream",
          "name": "stdout",
          "text": [
            "Epoch 1/100\n",
            "33/33 [==============================] - 2s 8ms/step - loss: 5.7460 - accuracy: 0.0437\n",
            "Epoch 2/100\n",
            "33/33 [==============================] - 0s 8ms/step - loss: 5.2393 - accuracy: 0.0579\n",
            "Epoch 3/100\n",
            "33/33 [==============================] - 0s 8ms/step - loss: 4.9105 - accuracy: 0.0864\n",
            "Epoch 4/100\n",
            "33/33 [==============================] - 0s 8ms/step - loss: 4.5815 - accuracy: 0.1254\n",
            "Epoch 5/100\n",
            "33/33 [==============================] - 0s 8ms/step - loss: 4.2347 - accuracy: 0.1671\n",
            "Epoch 6/100\n",
            "33/33 [==============================] - 0s 8ms/step - loss: 3.8536 - accuracy: 0.2061\n",
            "Epoch 7/100\n",
            "33/33 [==============================] - 0s 9ms/step - loss: 3.5029 - accuracy: 0.2450\n",
            "Epoch 8/100\n",
            "33/33 [==============================] - 0s 8ms/step - loss: 3.0882 - accuracy: 0.2944\n",
            "Epoch 9/100\n",
            "33/33 [==============================] - 0s 8ms/step - loss: 2.6540 - accuracy: 0.3485\n",
            "Epoch 10/100\n",
            "33/33 [==============================] - 0s 8ms/step - loss: 2.2505 - accuracy: 0.4207\n",
            "Epoch 11/100\n",
            "33/33 [==============================] - 0s 8ms/step - loss: 1.8710 - accuracy: 0.4777\n",
            "Epoch 12/100\n",
            "33/33 [==============================] - 0s 8ms/step - loss: 1.5228 - accuracy: 0.5869\n",
            "Epoch 13/100\n",
            "33/33 [==============================] - 0s 8ms/step - loss: 1.2498 - accuracy: 0.6496\n",
            "Epoch 14/100\n",
            "33/33 [==============================] - 0s 9ms/step - loss: 1.0472 - accuracy: 0.7037\n",
            "Epoch 15/100\n",
            "33/33 [==============================] - 0s 8ms/step - loss: 0.8827 - accuracy: 0.7569\n",
            "Epoch 16/100\n",
            "33/33 [==============================] - 0s 8ms/step - loss: 0.7528 - accuracy: 0.7987\n",
            "Epoch 17/100\n",
            "33/33 [==============================] - 0s 8ms/step - loss: 0.6803 - accuracy: 0.8006\n",
            "Epoch 18/100\n",
            "33/33 [==============================] - 0s 8ms/step - loss: 0.5920 - accuracy: 0.8158\n",
            "Epoch 19/100\n",
            "33/33 [==============================] - 0s 8ms/step - loss: 0.5630 - accuracy: 0.8357\n",
            "Epoch 20/100\n",
            "33/33 [==============================] - 0s 8ms/step - loss: 0.5051 - accuracy: 0.8462\n",
            "Epoch 21/100\n",
            "33/33 [==============================] - 0s 8ms/step - loss: 0.4938 - accuracy: 0.8443\n",
            "Epoch 22/100\n",
            "33/33 [==============================] - 0s 8ms/step - loss: 0.4532 - accuracy: 0.8557\n",
            "Epoch 23/100\n",
            "33/33 [==============================] - 0s 8ms/step - loss: 0.4504 - accuracy: 0.8490\n",
            "Epoch 24/100\n",
            "33/33 [==============================] - 0s 8ms/step - loss: 0.4311 - accuracy: 0.8566\n",
            "Epoch 25/100\n",
            "33/33 [==============================] - 0s 8ms/step - loss: 0.4115 - accuracy: 0.8594\n",
            "Epoch 26/100\n",
            "33/33 [==============================] - 0s 8ms/step - loss: 0.3989 - accuracy: 0.8661\n",
            "Epoch 27/100\n",
            "33/33 [==============================] - 0s 8ms/step - loss: 0.3846 - accuracy: 0.8613\n",
            "Epoch 28/100\n",
            "33/33 [==============================] - 0s 8ms/step - loss: 0.3835 - accuracy: 0.8661\n",
            "Epoch 29/100\n",
            "33/33 [==============================] - 0s 8ms/step - loss: 0.3726 - accuracy: 0.8670\n",
            "Epoch 30/100\n",
            "33/33 [==============================] - 0s 8ms/step - loss: 0.3780 - accuracy: 0.8594\n",
            "Epoch 31/100\n",
            "33/33 [==============================] - 0s 8ms/step - loss: 0.3685 - accuracy: 0.8538\n",
            "Epoch 32/100\n",
            "33/33 [==============================] - 0s 8ms/step - loss: 0.3584 - accuracy: 0.8623\n",
            "Epoch 33/100\n",
            "33/33 [==============================] - 0s 8ms/step - loss: 0.3452 - accuracy: 0.8718\n",
            "Epoch 34/100\n",
            "33/33 [==============================] - 0s 8ms/step - loss: 0.3481 - accuracy: 0.8538\n",
            "Epoch 35/100\n",
            "33/33 [==============================] - 0s 9ms/step - loss: 0.3508 - accuracy: 0.8708\n",
            "Epoch 36/100\n",
            "33/33 [==============================] - 0s 8ms/step - loss: 0.3387 - accuracy: 0.8594\n",
            "Epoch 37/100\n",
            "33/33 [==============================] - 0s 8ms/step - loss: 0.3405 - accuracy: 0.8651\n",
            "Epoch 38/100\n",
            "33/33 [==============================] - 0s 8ms/step - loss: 0.3309 - accuracy: 0.8689\n",
            "Epoch 39/100\n",
            "33/33 [==============================] - 0s 8ms/step - loss: 0.3292 - accuracy: 0.8708\n",
            "Epoch 40/100\n",
            "33/33 [==============================] - 0s 8ms/step - loss: 0.3237 - accuracy: 0.8727\n",
            "Epoch 41/100\n",
            "33/33 [==============================] - 0s 8ms/step - loss: 0.3250 - accuracy: 0.8604\n",
            "Epoch 42/100\n",
            "33/33 [==============================] - 0s 8ms/step - loss: 0.3181 - accuracy: 0.8670\n",
            "Epoch 43/100\n",
            "33/33 [==============================] - 0s 8ms/step - loss: 0.3212 - accuracy: 0.8680\n",
            "Epoch 44/100\n",
            "33/33 [==============================] - 0s 8ms/step - loss: 0.3170 - accuracy: 0.8727\n",
            "Epoch 45/100\n",
            "33/33 [==============================] - 0s 8ms/step - loss: 0.3078 - accuracy: 0.8784\n",
            "Epoch 46/100\n",
            "33/33 [==============================] - 0s 8ms/step - loss: 0.3164 - accuracy: 0.8661\n",
            "Epoch 47/100\n",
            "33/33 [==============================] - 0s 8ms/step - loss: 0.3091 - accuracy: 0.8765\n",
            "Epoch 48/100\n",
            "33/33 [==============================] - 0s 8ms/step - loss: 0.3064 - accuracy: 0.8661\n",
            "Epoch 49/100\n",
            "33/33 [==============================] - 0s 8ms/step - loss: 0.3124 - accuracy: 0.8689\n",
            "Epoch 50/100\n",
            "33/33 [==============================] - 0s 8ms/step - loss: 0.3023 - accuracy: 0.8737\n",
            "Epoch 51/100\n",
            "33/33 [==============================] - 0s 8ms/step - loss: 0.3016 - accuracy: 0.8746\n",
            "Epoch 52/100\n",
            "33/33 [==============================] - 0s 8ms/step - loss: 0.3057 - accuracy: 0.8689\n",
            "Epoch 53/100\n",
            "33/33 [==============================] - 0s 8ms/step - loss: 0.3013 - accuracy: 0.8699\n",
            "Epoch 54/100\n",
            "33/33 [==============================] - 0s 8ms/step - loss: 0.2986 - accuracy: 0.8756\n",
            "Epoch 55/100\n",
            "33/33 [==============================] - 0s 8ms/step - loss: 0.3013 - accuracy: 0.8803\n",
            "Epoch 56/100\n",
            "33/33 [==============================] - 0s 8ms/step - loss: 0.2913 - accuracy: 0.8718\n",
            "Epoch 57/100\n",
            "33/33 [==============================] - 0s 8ms/step - loss: 0.2934 - accuracy: 0.8803\n",
            "Epoch 58/100\n",
            "33/33 [==============================] - 0s 8ms/step - loss: 0.2940 - accuracy: 0.8708\n",
            "Epoch 59/100\n",
            "33/33 [==============================] - 0s 8ms/step - loss: 0.2914 - accuracy: 0.8680\n",
            "Epoch 60/100\n",
            "33/33 [==============================] - 0s 8ms/step - loss: 0.2856 - accuracy: 0.8737\n",
            "Epoch 61/100\n",
            "33/33 [==============================] - 0s 8ms/step - loss: 0.3077 - accuracy: 0.8680\n",
            "Epoch 62/100\n",
            "33/33 [==============================] - 0s 8ms/step - loss: 0.2889 - accuracy: 0.8737\n",
            "Epoch 63/100\n",
            "33/33 [==============================] - 0s 8ms/step - loss: 0.2930 - accuracy: 0.8661\n",
            "Epoch 64/100\n",
            "33/33 [==============================] - 0s 8ms/step - loss: 0.2844 - accuracy: 0.8784\n",
            "Epoch 65/100\n",
            "33/33 [==============================] - 0s 8ms/step - loss: 0.2832 - accuracy: 0.8794\n",
            "Epoch 66/100\n",
            "33/33 [==============================] - 0s 8ms/step - loss: 0.2798 - accuracy: 0.8746\n",
            "Epoch 67/100\n",
            "33/33 [==============================] - 0s 8ms/step - loss: 0.2845 - accuracy: 0.8718\n",
            "Epoch 68/100\n",
            "33/33 [==============================] - 0s 8ms/step - loss: 0.2816 - accuracy: 0.8765\n",
            "Epoch 69/100\n",
            "33/33 [==============================] - 0s 8ms/step - loss: 0.2776 - accuracy: 0.8803\n",
            "Epoch 70/100\n",
            "33/33 [==============================] - 0s 8ms/step - loss: 0.2794 - accuracy: 0.8775\n",
            "Epoch 71/100\n",
            "33/33 [==============================] - 0s 8ms/step - loss: 0.2782 - accuracy: 0.8822\n",
            "Epoch 72/100\n",
            "33/33 [==============================] - 0s 8ms/step - loss: 0.2922 - accuracy: 0.8727\n",
            "Epoch 73/100\n",
            "33/33 [==============================] - 0s 8ms/step - loss: 0.2739 - accuracy: 0.8756\n",
            "Epoch 74/100\n",
            "33/33 [==============================] - 0s 8ms/step - loss: 0.2805 - accuracy: 0.8746\n",
            "Epoch 75/100\n",
            "33/33 [==============================] - 0s 8ms/step - loss: 0.2799 - accuracy: 0.8784\n",
            "Epoch 76/100\n",
            "33/33 [==============================] - 0s 8ms/step - loss: 0.2680 - accuracy: 0.8813\n",
            "Epoch 77/100\n",
            "33/33 [==============================] - 0s 9ms/step - loss: 0.2885 - accuracy: 0.8756\n",
            "Epoch 78/100\n",
            "33/33 [==============================] - 0s 8ms/step - loss: 0.2792 - accuracy: 0.8746\n",
            "Epoch 79/100\n",
            "33/33 [==============================] - 0s 8ms/step - loss: 0.2711 - accuracy: 0.8870\n",
            "Epoch 80/100\n",
            "33/33 [==============================] - 0s 8ms/step - loss: 0.2790 - accuracy: 0.8756\n",
            "Epoch 81/100\n",
            "33/33 [==============================] - 0s 8ms/step - loss: 0.2822 - accuracy: 0.8794\n",
            "Epoch 82/100\n",
            "33/33 [==============================] - 0s 8ms/step - loss: 0.2771 - accuracy: 0.8794\n",
            "Epoch 83/100\n",
            "33/33 [==============================] - 0s 8ms/step - loss: 0.2752 - accuracy: 0.8803\n",
            "Epoch 84/100\n",
            "33/33 [==============================] - 0s 8ms/step - loss: 0.2786 - accuracy: 0.8765\n",
            "Epoch 85/100\n",
            "33/33 [==============================] - 0s 8ms/step - loss: 0.2751 - accuracy: 0.8803\n",
            "Epoch 86/100\n",
            "33/33 [==============================] - 0s 9ms/step - loss: 0.2718 - accuracy: 0.8851\n",
            "Epoch 87/100\n",
            "33/33 [==============================] - 0s 8ms/step - loss: 0.2788 - accuracy: 0.8746\n",
            "Epoch 88/100\n",
            "33/33 [==============================] - 0s 8ms/step - loss: 0.2749 - accuracy: 0.8775\n",
            "Epoch 89/100\n",
            "33/33 [==============================] - 0s 8ms/step - loss: 0.2721 - accuracy: 0.8737\n",
            "Epoch 90/100\n",
            "33/33 [==============================] - 0s 8ms/step - loss: 0.2717 - accuracy: 0.8765\n",
            "Epoch 91/100\n",
            "33/33 [==============================] - 0s 8ms/step - loss: 0.2724 - accuracy: 0.8803\n",
            "Epoch 92/100\n",
            "33/33 [==============================] - 0s 8ms/step - loss: 0.2719 - accuracy: 0.8775\n",
            "Epoch 93/100\n",
            "33/33 [==============================] - 0s 8ms/step - loss: 0.2686 - accuracy: 0.8746\n",
            "Epoch 94/100\n",
            "33/33 [==============================] - 0s 8ms/step - loss: 0.2822 - accuracy: 0.8689\n",
            "Epoch 95/100\n",
            "33/33 [==============================] - 0s 8ms/step - loss: 0.2681 - accuracy: 0.8822\n",
            "Epoch 96/100\n",
            "33/33 [==============================] - 0s 8ms/step - loss: 0.2687 - accuracy: 0.8803\n",
            "Epoch 97/100\n",
            "33/33 [==============================] - 0s 8ms/step - loss: 0.2722 - accuracy: 0.8822\n",
            "Epoch 98/100\n",
            "33/33 [==============================] - 0s 8ms/step - loss: 0.2667 - accuracy: 0.8860\n",
            "Epoch 99/100\n",
            "33/33 [==============================] - 0s 9ms/step - loss: 0.2730 - accuracy: 0.8775\n",
            "Epoch 100/100\n",
            "33/33 [==============================] - 0s 9ms/step - loss: 0.2809 - accuracy: 0.8784\n"
          ]
        }
      ]
    },
    {
      "cell_type": "markdown",
      "source": [
        "# Wuraola's Model"
      ],
      "metadata": {
        "id": "0VWcNCKzzjzs"
      }
    },
    {
      "cell_type": "code",
      "metadata": {
        "id": "CxmHePgIRrgU",
        "outputId": "0a089202-1795-4382-b206-b70652c2120c",
        "colab": {
          "base_uri": "https://localhost:8080/"
        }
      },
      "source": [
        "model_wura = tf.keras.Sequential()\n",
        "model_wura.add(tf.keras.layers.Embedding(total_words, 64, input_length=max_sequence_len - 1))\n",
        "model_wura.add(tf.keras.layers.Bidirectional((tf.keras.layers.LSTM(200))))\n",
        "model_wura.add(tf.keras.layers.Dense(total_words, activation='softmax'))\n",
        "model_wura.summary()"
      ],
      "execution_count": null,
      "outputs": [
        {
          "output_type": "stream",
          "name": "stdout",
          "text": [
            "Model: \"sequential_1\"\n",
            "_________________________________________________________________\n",
            " Layer (type)                Output Shape              Param #   \n",
            "=================================================================\n",
            " embedding_2 (Embedding)     (None, 7, 64)             29376     \n",
            "                                                                 \n",
            " bidirectional (Bidirectiona  (None, 400)              424000    \n",
            " l)                                                              \n",
            "                                                                 \n",
            " dense_4 (Dense)             (None, 459)               184059    \n",
            "                                                                 \n",
            "=================================================================\n",
            "Total params: 637,435\n",
            "Trainable params: 637,435\n",
            "Non-trainable params: 0\n",
            "_________________________________________________________________\n"
          ]
        }
      ]
    },
    {
      "cell_type": "code",
      "metadata": {
        "id": "woS1kU-NRxyf",
        "outputId": "3d92651b-b396-4f7c-e32e-44bbba7d41eb",
        "colab": {
          "base_uri": "https://localhost:8080/"
        }
      },
      "source": [
        "adam = tf.keras.optimizers.Adam(lr=0.01)\n",
        "model_wura.compile(loss='categorical_crossentropy', optimizer='adam', metrics=['accuracy'])\n",
        "history = model_wura.fit(train_dataset, epochs=100, verbose=1)"
      ],
      "execution_count": null,
      "outputs": [
        {
          "output_type": "stream",
          "name": "stdout",
          "text": [
            "Epoch 1/100\n",
            "33/33 [==============================] - 4s 7ms/step - loss: 5.9743 - accuracy: 0.0399\n",
            "Epoch 2/100\n",
            "33/33 [==============================] - 0s 7ms/step - loss: 5.4249 - accuracy: 0.0465\n",
            "Epoch 3/100\n",
            "33/33 [==============================] - 0s 7ms/step - loss: 5.3182 - accuracy: 0.0389\n",
            "Epoch 4/100\n",
            "33/33 [==============================] - 0s 7ms/step - loss: 5.1975 - accuracy: 0.0294\n",
            "Epoch 5/100\n",
            "33/33 [==============================] - 0s 7ms/step - loss: 5.0766 - accuracy: 0.0342\n",
            "Epoch 6/100\n",
            "33/33 [==============================] - 0s 9ms/step - loss: 4.9433 - accuracy: 0.0475\n",
            "Epoch 7/100\n",
            "33/33 [==============================] - 0s 8ms/step - loss: 4.8200 - accuracy: 0.0418\n",
            "Epoch 8/100\n",
            "33/33 [==============================] - 0s 7ms/step - loss: 4.7072 - accuracy: 0.0589\n",
            "Epoch 9/100\n",
            "33/33 [==============================] - 0s 7ms/step - loss: 4.5847 - accuracy: 0.0855\n",
            "Epoch 10/100\n",
            "33/33 [==============================] - 0s 7ms/step - loss: 4.4365 - accuracy: 0.1016\n",
            "Epoch 11/100\n",
            "33/33 [==============================] - 0s 7ms/step - loss: 4.2420 - accuracy: 0.1339\n",
            "Epoch 12/100\n",
            "33/33 [==============================] - 0s 7ms/step - loss: 4.0710 - accuracy: 0.1406\n",
            "Epoch 13/100\n",
            "33/33 [==============================] - 0s 7ms/step - loss: 3.8193 - accuracy: 0.1871\n",
            "Epoch 14/100\n",
            "33/33 [==============================] - 0s 7ms/step - loss: 3.6105 - accuracy: 0.2175\n",
            "Epoch 15/100\n",
            "33/33 [==============================] - 0s 7ms/step - loss: 3.3608 - accuracy: 0.2441\n",
            "Epoch 16/100\n",
            "33/33 [==============================] - 0s 7ms/step - loss: 3.1232 - accuracy: 0.2868\n",
            "Epoch 17/100\n",
            "33/33 [==============================] - 0s 7ms/step - loss: 2.9362 - accuracy: 0.3048\n",
            "Epoch 18/100\n",
            "33/33 [==============================] - 0s 7ms/step - loss: 2.7099 - accuracy: 0.3590\n",
            "Epoch 19/100\n",
            "33/33 [==============================] - 0s 7ms/step - loss: 2.4991 - accuracy: 0.3856\n",
            "Epoch 20/100\n",
            "33/33 [==============================] - 0s 7ms/step - loss: 2.2838 - accuracy: 0.4359\n",
            "Epoch 21/100\n",
            "33/33 [==============================] - 0s 7ms/step - loss: 2.1153 - accuracy: 0.4634\n",
            "Epoch 22/100\n",
            "33/33 [==============================] - 0s 7ms/step - loss: 1.9384 - accuracy: 0.5109\n",
            "Epoch 23/100\n",
            "33/33 [==============================] - 0s 7ms/step - loss: 1.7890 - accuracy: 0.5423\n",
            "Epoch 24/100\n",
            "33/33 [==============================] - 0s 7ms/step - loss: 1.6454 - accuracy: 0.5641\n",
            "Epoch 25/100\n",
            "33/33 [==============================] - 0s 7ms/step - loss: 1.5001 - accuracy: 0.6249\n",
            "Epoch 26/100\n",
            "33/33 [==============================] - 0s 7ms/step - loss: 1.4016 - accuracy: 0.6372\n",
            "Epoch 27/100\n",
            "33/33 [==============================] - 0s 7ms/step - loss: 1.3284 - accuracy: 0.6572\n",
            "Epoch 28/100\n",
            "33/33 [==============================] - 0s 8ms/step - loss: 1.2453 - accuracy: 0.6819\n",
            "Epoch 29/100\n",
            "33/33 [==============================] - 0s 7ms/step - loss: 1.1760 - accuracy: 0.7009\n",
            "Epoch 30/100\n",
            "33/33 [==============================] - 0s 7ms/step - loss: 1.0569 - accuracy: 0.7445\n",
            "Epoch 31/100\n",
            "33/33 [==============================] - 0s 8ms/step - loss: 0.9817 - accuracy: 0.7550\n",
            "Epoch 32/100\n",
            "33/33 [==============================] - 0s 7ms/step - loss: 0.9104 - accuracy: 0.7749\n",
            "Epoch 33/100\n",
            "33/33 [==============================] - 0s 7ms/step - loss: 0.8530 - accuracy: 0.7930\n",
            "Epoch 34/100\n",
            "33/33 [==============================] - 0s 7ms/step - loss: 0.8022 - accuracy: 0.7996\n",
            "Epoch 35/100\n",
            "33/33 [==============================] - 0s 8ms/step - loss: 0.7532 - accuracy: 0.8129\n",
            "Epoch 36/100\n",
            "33/33 [==============================] - 0s 7ms/step - loss: 0.7130 - accuracy: 0.8167\n",
            "Epoch 37/100\n",
            "33/33 [==============================] - 0s 7ms/step - loss: 0.6689 - accuracy: 0.8329\n",
            "Epoch 38/100\n",
            "33/33 [==============================] - 0s 7ms/step - loss: 0.6482 - accuracy: 0.8291\n",
            "Epoch 39/100\n",
            "33/33 [==============================] - 0s 7ms/step - loss: 0.6114 - accuracy: 0.8452\n",
            "Epoch 40/100\n",
            "33/33 [==============================] - 0s 7ms/step - loss: 0.5741 - accuracy: 0.8452\n",
            "Epoch 41/100\n",
            "33/33 [==============================] - 0s 7ms/step - loss: 0.5432 - accuracy: 0.8500\n",
            "Epoch 42/100\n",
            "33/33 [==============================] - 0s 8ms/step - loss: 0.5127 - accuracy: 0.8632\n",
            "Epoch 43/100\n",
            "33/33 [==============================] - 0s 8ms/step - loss: 0.5073 - accuracy: 0.8594\n",
            "Epoch 44/100\n",
            "33/33 [==============================] - 0s 7ms/step - loss: 0.4753 - accuracy: 0.8604\n",
            "Epoch 45/100\n",
            "33/33 [==============================] - 0s 7ms/step - loss: 0.4878 - accuracy: 0.8538\n",
            "Epoch 46/100\n",
            "33/33 [==============================] - 0s 8ms/step - loss: 0.4663 - accuracy: 0.8594\n",
            "Epoch 47/100\n",
            "33/33 [==============================] - 0s 7ms/step - loss: 0.4485 - accuracy: 0.8689\n",
            "Epoch 48/100\n",
            "33/33 [==============================] - 0s 7ms/step - loss: 0.4358 - accuracy: 0.8613\n",
            "Epoch 49/100\n",
            "33/33 [==============================] - 0s 7ms/step - loss: 0.4046 - accuracy: 0.8680\n",
            "Epoch 50/100\n",
            "33/33 [==============================] - 0s 7ms/step - loss: 0.4008 - accuracy: 0.8708\n",
            "Epoch 51/100\n",
            "33/33 [==============================] - 0s 7ms/step - loss: 0.3925 - accuracy: 0.8642\n",
            "Epoch 52/100\n",
            "33/33 [==============================] - 0s 7ms/step - loss: 0.3642 - accuracy: 0.8775\n",
            "Epoch 53/100\n",
            "33/33 [==============================] - 0s 8ms/step - loss: 0.3728 - accuracy: 0.8689\n",
            "Epoch 54/100\n",
            "33/33 [==============================] - 0s 7ms/step - loss: 0.3693 - accuracy: 0.8661\n",
            "Epoch 55/100\n",
            "33/33 [==============================] - 0s 7ms/step - loss: 0.3581 - accuracy: 0.8689\n",
            "Epoch 56/100\n",
            "33/33 [==============================] - 0s 7ms/step - loss: 0.3510 - accuracy: 0.8708\n",
            "Epoch 57/100\n",
            "33/33 [==============================] - 0s 8ms/step - loss: 0.3443 - accuracy: 0.8727\n",
            "Epoch 58/100\n",
            "33/33 [==============================] - 0s 7ms/step - loss: 0.3340 - accuracy: 0.8832\n",
            "Epoch 59/100\n",
            "33/33 [==============================] - 0s 7ms/step - loss: 0.3353 - accuracy: 0.8708\n",
            "Epoch 60/100\n",
            "33/33 [==============================] - 0s 8ms/step - loss: 0.3289 - accuracy: 0.8718\n",
            "Epoch 61/100\n",
            "33/33 [==============================] - 0s 7ms/step - loss: 0.3315 - accuracy: 0.8746\n",
            "Epoch 62/100\n",
            "33/33 [==============================] - 0s 7ms/step - loss: 0.3344 - accuracy: 0.8718\n",
            "Epoch 63/100\n",
            "33/33 [==============================] - 0s 7ms/step - loss: 0.3268 - accuracy: 0.8708\n",
            "Epoch 64/100\n",
            "33/33 [==============================] - 0s 7ms/step - loss: 0.3232 - accuracy: 0.8708\n",
            "Epoch 65/100\n",
            "33/33 [==============================] - 0s 7ms/step - loss: 0.3262 - accuracy: 0.8756\n",
            "Epoch 66/100\n",
            "33/33 [==============================] - 0s 7ms/step - loss: 0.3297 - accuracy: 0.8737\n",
            "Epoch 67/100\n",
            "33/33 [==============================] - 0s 7ms/step - loss: 0.3333 - accuracy: 0.8746\n",
            "Epoch 68/100\n",
            "33/33 [==============================] - 0s 7ms/step - loss: 0.3315 - accuracy: 0.8670\n",
            "Epoch 69/100\n",
            "33/33 [==============================] - 0s 7ms/step - loss: 0.3134 - accuracy: 0.8737\n",
            "Epoch 70/100\n",
            "33/33 [==============================] - 0s 7ms/step - loss: 0.3048 - accuracy: 0.8708\n",
            "Epoch 71/100\n",
            "33/33 [==============================] - 0s 7ms/step - loss: 0.3006 - accuracy: 0.8832\n",
            "Epoch 72/100\n",
            "33/33 [==============================] - 0s 7ms/step - loss: 0.3018 - accuracy: 0.8765\n",
            "Epoch 73/100\n",
            "33/33 [==============================] - 0s 7ms/step - loss: 0.2971 - accuracy: 0.8699\n",
            "Epoch 74/100\n",
            "33/33 [==============================] - 0s 7ms/step - loss: 0.2992 - accuracy: 0.8756\n",
            "Epoch 75/100\n",
            "33/33 [==============================] - 0s 7ms/step - loss: 0.2910 - accuracy: 0.8756\n",
            "Epoch 76/100\n",
            "33/33 [==============================] - 0s 7ms/step - loss: 0.2930 - accuracy: 0.8765\n",
            "Epoch 77/100\n",
            "33/33 [==============================] - 0s 7ms/step - loss: 0.2892 - accuracy: 0.8794\n",
            "Epoch 78/100\n",
            "33/33 [==============================] - 0s 7ms/step - loss: 0.2896 - accuracy: 0.8765\n",
            "Epoch 79/100\n",
            "33/33 [==============================] - 0s 8ms/step - loss: 0.2917 - accuracy: 0.8756\n",
            "Epoch 80/100\n",
            "33/33 [==============================] - 0s 8ms/step - loss: 0.2896 - accuracy: 0.8765\n",
            "Epoch 81/100\n",
            "33/33 [==============================] - 0s 7ms/step - loss: 0.2882 - accuracy: 0.8756\n",
            "Epoch 82/100\n",
            "33/33 [==============================] - 0s 7ms/step - loss: 0.2889 - accuracy: 0.8756\n",
            "Epoch 83/100\n",
            "33/33 [==============================] - 0s 7ms/step - loss: 0.2839 - accuracy: 0.8737\n",
            "Epoch 84/100\n",
            "33/33 [==============================] - 0s 7ms/step - loss: 0.2849 - accuracy: 0.8718\n",
            "Epoch 85/100\n",
            "33/33 [==============================] - 0s 7ms/step - loss: 0.2851 - accuracy: 0.8727\n",
            "Epoch 86/100\n",
            "33/33 [==============================] - 0s 7ms/step - loss: 0.2852 - accuracy: 0.8765\n",
            "Epoch 87/100\n",
            "33/33 [==============================] - 0s 7ms/step - loss: 0.2831 - accuracy: 0.8775\n",
            "Epoch 88/100\n",
            "33/33 [==============================] - 0s 8ms/step - loss: 0.2858 - accuracy: 0.8784\n",
            "Epoch 89/100\n",
            "33/33 [==============================] - 0s 7ms/step - loss: 0.2813 - accuracy: 0.8794\n",
            "Epoch 90/100\n",
            "33/33 [==============================] - 0s 7ms/step - loss: 0.2820 - accuracy: 0.8718\n",
            "Epoch 91/100\n",
            "33/33 [==============================] - 0s 7ms/step - loss: 0.2815 - accuracy: 0.8813\n",
            "Epoch 92/100\n",
            "33/33 [==============================] - 0s 7ms/step - loss: 0.2825 - accuracy: 0.8756\n",
            "Epoch 93/100\n",
            "33/33 [==============================] - 0s 8ms/step - loss: 0.2779 - accuracy: 0.8718\n",
            "Epoch 94/100\n",
            "33/33 [==============================] - 0s 7ms/step - loss: 0.2781 - accuracy: 0.8746\n",
            "Epoch 95/100\n",
            "33/33 [==============================] - 0s 7ms/step - loss: 0.2805 - accuracy: 0.8746\n",
            "Epoch 96/100\n",
            "33/33 [==============================] - 0s 7ms/step - loss: 0.2800 - accuracy: 0.8756\n",
            "Epoch 97/100\n",
            "33/33 [==============================] - 0s 7ms/step - loss: 0.2802 - accuracy: 0.8784\n",
            "Epoch 98/100\n",
            "33/33 [==============================] - 0s 7ms/step - loss: 0.2774 - accuracy: 0.8718\n",
            "Epoch 99/100\n",
            "33/33 [==============================] - 0s 7ms/step - loss: 0.2789 - accuracy: 0.8727\n",
            "Epoch 100/100\n",
            "33/33 [==============================] - 0s 7ms/step - loss: 0.2816 - accuracy: 0.8765\n"
          ]
        }
      ]
    },
    {
      "cell_type": "markdown",
      "metadata": {
        "id": "Bk_rgNVG8zm-"
      },
      "source": [
        "# Generator yoruba hymns lyrics"
      ]
    },
    {
      "cell_type": "code",
      "metadata": {
        "id": "z-0xaVuLyKYE"
      },
      "source": [
        "def generate_hymn(model, seed_text,next_words):\n",
        "    \"\"\" A function that takes a \n",
        "    seed_text: to prompt next word prediction\n",
        "    next_word: The number of next words to predict\n",
        "    and returns the predicted yoruba hymn lyrics\"\"\"\n",
        "    for _ in range(next_words):\n",
        "        token_list = tokenizer.texts_to_sequences([seed_text])[0]\n",
        "        token_list = pad_sequences([token_list], maxlen=max_sequence_len - 1, padding='pre')\n",
        "        if model is transformer:\n",
        "          predicted = model.predict([token_list, token_list], verbose=0)[0]\n",
        "        else: predicted = model.predict(token_list, verbose=0)[0]\n",
        "        predicted = np.argmax(predicted)\n",
        "        output_word = \" \"\n",
        "        for word, index in tokenizer.word_index.items():\n",
        "            if index == predicted:\n",
        "                output_word = word\n",
        "                break\n",
        "        seed_text += \" \" + output_word\n",
        "    return seed_text"
      ],
      "execution_count": null,
      "outputs": []
    },
    {
      "cell_type": "code",
      "metadata": {
        "id": "BsXfSHjByoL3",
        "outputId": "c7bc00f0-cfa2-4f47-b6c5-6c0d4ed20c98",
        "colab": {
          "base_uri": "https://localhost:8080/",
          "height": 36
        }
      },
      "source": [
        "generate_hymn(model_wura, 'olúwa olúwa gbà',4)"
      ],
      "execution_count": null,
      "outputs": [
        {
          "output_type": "execute_result",
          "data": {
            "text/plain": [
              "\"olúwa olúwa gbà sínú omi omi nín'ẹ̀ṣẹ̀\""
            ],
            "application/vnd.google.colaboratory.intrinsic+json": {
              "type": "string"
            }
          },
          "metadata": {},
          "execution_count": 124
        }
      ]
    },
    {
      "cell_type": "code",
      "metadata": {
        "id": "uFhXGCPr6mms",
        "outputId": "95297105-84c8-487e-bcfe-51535f53b4e4",
        "colab": {
          "base_uri": "https://localhost:8080/"
        }
      },
      "source": [
        "seed_text_list = ['olúwa gbà','olùgbàlà' ,'Ọlọ́run' , 'ìṣẹ́gun ni' , 'ìyanu mi', 'gbórí', 'ayọ̀ ńbọ̀','ìfẹ́','ìfẹ́ ọkàn', 'olúwa mi','ọ̀rẹ́','ọ̀rẹ́ òtítọ́']\n",
        "for word in seed_text_list:\n",
        "    print(generate_hymn(model_wura, word,5))"
      ],
      "execution_count": null,
      "outputs": [
        {
          "output_type": "stream",
          "name": "stdout",
          "text": [
            "olúwa gbà mú mí níhìn kúrọ̀ nín'ẹ̀ṣẹ̀\n",
            "olùgbàlà gbóhùn mi ko ṣì gbọ́ràn\n",
            "Ọlọ́run la ó rójú 'bùkún rẹ̀\n",
            "ìṣẹ́gun ni dorin mi d'òpin ìrìn mi\n",
            "ìyanu mi wón ma sáre fún ọ\n",
            "gbórí la ó rójú 'bùkún rẹ̀\n",
            "ayọ̀ ńbọ̀ ọ fún jésù nìkan mi\n",
            "ìfẹ́ rẹ̀ ju t'ìyekan lọ s'\n",
            "ìfẹ́ ọkàn tí ó fẹ́ wa ṣègbé\n",
            "olúwa mi mọ́ mímọ́ jùlọ bí bí\n",
            "ọ̀rẹ́ òdodo ni jésù lọ́rẹ̀ jésù\n",
            "ọ̀rẹ́ òtítọ́ òdodo ni jésù lọ́rẹ̀ jésù\n"
          ]
        }
      ]
    },
    {
      "cell_type": "code",
      "source": [
        "seed_text_list = ['olúwa gbà','olùgbàlà' ,'Ọlọ́run' , 'ìṣẹ́gun ni' , 'ìyanu mi', 'gbórí', 'ayọ̀ ńbọ̀','ìfẹ́','ìfẹ́ ọkàn', 'olúwa mi','ọ̀rẹ́','ọ̀rẹ́ òtítọ́']\n",
        "for word in seed_text_list:\n",
        "    print(generate_hymn(model, word,5))"
      ],
      "metadata": {
        "id": "pMepVsZe_Ew1",
        "colab": {
          "base_uri": "https://localhost:8080/"
        },
        "outputId": "20d6ed33-6ce1-43bc-dbce-55258378cef4"
      },
      "execution_count": null,
      "outputs": [
        {
          "output_type": "stream",
          "name": "stdout",
          "text": [
            "olúwa gbà mí ègbè ègbè ègbè ègbè\n",
            "olùgbàlà gbóhùn mi gbà mí ègbè\n",
            "Ọlọ́run dípò ọmọ ná gbà mí\n",
            "ìṣẹ́gun ni fún jésù sọ ọ fún\n",
            "ìyanu mi kọ́kàn gbogbo fò fún ayọ̀\n",
            "gbórí dípò ọmọ ná gbà mí\n",
            "ayọ̀ ńbọ̀ fún mi rù le gbogbo\n",
            "ìfẹ́ rẹ̀ ju t'ìyekan lọ lọ\n",
            "ìfẹ́ ọkàn re rẹ̀ k'ọ́mọdé wá nín'ẹ̀ṣẹ̀\n",
            "olúwa mi wá lọ́wọ́ látóní n'ínú mọ́\n",
            "ọ̀rẹ́ òdodo ni jésù bí n'ínú\n",
            "ọ̀rẹ́ òtítọ́ òdodo ni jésù bí n'ínú\n"
          ]
        }
      ]
    },
    {
      "cell_type": "code",
      "source": [
        "seed_text_list = ['ìsun kan','mo ti' ,'enìkan' , 'gba ayé mi']\n",
        "for word in seed_text_list:\n",
        "    print(generate_hymn(model_wura, word,5))"
      ],
      "metadata": {
        "colab": {
          "base_uri": "https://localhost:8080/"
        },
        "id": "PnaynTpvBExS",
        "outputId": "83cc832a-2367-4d6c-951c-fec71b59fc53"
      },
      "execution_count": null,
      "outputs": [
        {
          "output_type": "stream",
          "name": "stdout",
          "text": [
            "ìsun kan wa tó kún fẹ́jẹ̀ fẹ́jẹ̀\n",
            "mo ti ní jésù lọ́rẹ̀ lọ́rẹ̀ wàhálà\n",
            "enìkan nbẹ tó fẹ́ràn wa lóní\n",
            "gba ayé mi olúwa won mọ́ ọ bí\n"
          ]
        }
      ]
    },
    {
      "cell_type": "code",
      "source": [
        "seed_text_list = ['ìsun kan','mo ti' ,'enìkan' , 'gba ayé mi']\n",
        "for word in seed_text_list:\n",
        "    print(generate_hymn(model, word,5))"
      ],
      "metadata": {
        "colab": {
          "base_uri": "https://localhost:8080/"
        },
        "id": "M2xNT9n0AxGz",
        "outputId": "0f6d4ccb-863d-4f43-b56b-915360697717"
      },
      "execution_count": null,
      "outputs": [
        {
          "output_type": "stream",
          "name": "stdout",
          "text": [
            "ìsun kan wa tó kún fẹ́jẹ̀ fẹ́jẹ̀\n",
            "mo ti ní jésù lọ́rẹ̀ lọ́rẹ̀ lọ́rẹ̀\n",
            "enìkan nbẹ tó fẹ́ràn wa wá\n",
            "gba ayé mi olúwa gbà mí ègbè nín'ẹ̀ṣẹ̀\n"
          ]
        }
      ]
    },
    {
      "cell_type": "code",
      "source": [
        "data[:5]"
      ],
      "metadata": {
        "colab": {
          "base_uri": "https://localhost:8080/"
        },
        "id": "wpDx59k8Amop",
        "outputId": "955e65b4-85ae-49d3-d6ae-570fda5a9713"
      },
      "execution_count": null,
      "outputs": [
        {
          "output_type": "execute_result",
          "data": {
            "text/plain": [
              "['ìsun kan wa tó kún fẹ́jẹ̀',\n",
              " ' mo ti ní jésù lọ́rẹ̀',\n",
              " ' enìkan nbẹ tó fẹ́ràn wa',\n",
              " ' gba ayé mi, olúwa',\n",
              " ' olùgbàlà gbóhùn mi']"
            ]
          },
          "metadata": {},
          "execution_count": 53
        }
      ]
    }
  ]
}